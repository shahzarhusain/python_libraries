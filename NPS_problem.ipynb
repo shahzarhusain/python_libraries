{
  "nbformat": 4,
  "nbformat_minor": 0,
  "metadata": {
    "colab": {
      "provenance": [],
      "authorship_tag": "ABX9TyPgxDyg5EmcMxxWVXQ2lXRk",
      "include_colab_link": true
    },
    "kernelspec": {
      "name": "python3",
      "display_name": "Python 3"
    },
    "language_info": {
      "name": "python"
    }
  },
  "cells": [
    {
      "cell_type": "markdown",
      "metadata": {
        "id": "view-in-github",
        "colab_type": "text"
      },
      "source": [
        "<a href=\"https://colab.research.google.com/github/shahzarhusain/python_libraries/blob/main/NPS_problem.ipynb\" target=\"_parent\"><img src=\"https://colab.research.google.com/assets/colab-badge.svg\" alt=\"Open In Colab\"/></a>"
      ]
    },
    {
      "cell_type": "markdown",
      "source": [
        "We want to check the NPS for an Airbnb property. NPS i.e. Net promoter score is a metric based on the ratings provided by the customers for the likelihood that they will recommned the product within their circle.\n",
        "\n",
        "**NPS = % of promoters - % of detractors**\n",
        "\n",
        "The criteria ratings for promoter and detractor varies from organisation to organisation. Usually, for the scale of 1-10:\n",
        "*   1-6 - Detractors\n",
        "*   7-8 - Neutral\n",
        "*   9-10 - Promoters\n",
        "\n",
        "The NPS can vary from -100 % to 100%."
      ],
      "metadata": {
        "id": "JbFAImKJHRv1"
      }
    },
    {
      "cell_type": "code",
      "execution_count": 3,
      "metadata": {
        "id": "2pM2myyvYLRm"
      },
      "outputs": [],
      "source": [
        "import numpy as np"
      ]
    },
    {
      "cell_type": "code",
      "source": [
        "# importing the data file\n",
        "!gdown 1c0ClC8SrPwJq5rrkyMKyPn80nyHcFikK"
      ],
      "metadata": {
        "colab": {
          "base_uri": "https://localhost:8080/"
        },
        "id": "A9j-JTEPaqpY",
        "outputId": "a55cd212-896d-45a3-b55b-86047a130e6a"
      },
      "execution_count": 1,
      "outputs": [
        {
          "output_type": "stream",
          "name": "stdout",
          "text": [
            "Downloading...\n",
            "From: https://drive.google.com/uc?id=1c0ClC8SrPwJq5rrkyMKyPn80nyHcFikK\n",
            "To: /content/survey.txt\n",
            "\r  0% 0.00/2.55k [00:00<?, ?B/s]\r100% 2.55k/2.55k [00:00<00:00, 8.33MB/s]\n"
          ]
        }
      ]
    },
    {
      "cell_type": "code",
      "source": [
        "score = np.loadtxt('survey.txt', dtype = 'int')\n",
        "score"
      ],
      "metadata": {
        "id": "6JrbA6ktlI5n",
        "colab": {
          "base_uri": "https://localhost:8080/"
        },
        "outputId": "b6ded023-6de5-41e3-d8f3-0ffb7963b6c3"
      },
      "execution_count": 4,
      "outputs": [
        {
          "output_type": "execute_result",
          "data": {
            "text/plain": [
              "array([ 7, 10,  5, ...,  5,  9, 10])"
            ]
          },
          "metadata": {},
          "execution_count": 4
        }
      ]
    },
    {
      "cell_type": "markdown",
      "source": [
        "The dataset is an one dimensional array consist of Ratings only.\n",
        "\n"
      ],
      "metadata": {
        "id": "S8kP-Mp-F2Va"
      }
    },
    {
      "cell_type": "code",
      "source": [
        "score.ndim"
      ],
      "metadata": {
        "colab": {
          "base_uri": "https://localhost:8080/"
        },
        "id": "35iAhaSyFmz6",
        "outputId": "4c9c8ea8-160d-4ede-9584-3cba17f2d1a9"
      },
      "execution_count": 5,
      "outputs": [
        {
          "output_type": "execute_result",
          "data": {
            "text/plain": [
              "1"
            ]
          },
          "metadata": {},
          "execution_count": 5
        }
      ]
    },
    {
      "cell_type": "code",
      "source": [
        "score.shape"
      ],
      "metadata": {
        "colab": {
          "base_uri": "https://localhost:8080/"
        },
        "id": "hxLsA6muIMd1",
        "outputId": "9ac170b0-2453-46b1-ac7a-c1db77c4dfe7"
      },
      "execution_count": 6,
      "outputs": [
        {
          "output_type": "execute_result",
          "data": {
            "text/plain": [
              "(1167,)"
            ]
          },
          "metadata": {},
          "execution_count": 6
        }
      ]
    },
    {
      "cell_type": "code",
      "source": [
        "len(score)"
      ],
      "metadata": {
        "colab": {
          "base_uri": "https://localhost:8080/"
        },
        "id": "R_L2xOpLINbv",
        "outputId": "85f304e6-a519-4e75-a06b-c99945c8c94d"
      },
      "execution_count": 7,
      "outputs": [
        {
          "output_type": "execute_result",
          "data": {
            "text/plain": [
              "1167"
            ]
          },
          "metadata": {},
          "execution_count": 7
        }
      ]
    },
    {
      "cell_type": "code",
      "source": [
        "# let's verify the range of ratings\n",
        "print(score.min())\n",
        "print(score.max())"
      ],
      "metadata": {
        "colab": {
          "base_uri": "https://localhost:8080/"
        },
        "id": "PzxvjGbrIO89",
        "outputId": "4ae17c43-c121-4cf7-bfcc-d2aa957c324e"
      },
      "execution_count": 8,
      "outputs": [
        {
          "output_type": "stream",
          "name": "stdout",
          "text": [
            "1\n",
            "10\n"
          ]
        }
      ]
    },
    {
      "cell_type": "code",
      "source": [
        "detractors = score[score <= 6]"
      ],
      "metadata": {
        "id": "FegvhIi6Iapk"
      },
      "execution_count": 9,
      "outputs": []
    },
    {
      "cell_type": "code",
      "source": [
        "promoters = score[score >=9 ]"
      ],
      "metadata": {
        "id": "6GNKT08HI_5Z"
      },
      "execution_count": 10,
      "outputs": []
    },
    {
      "cell_type": "code",
      "source": [
        "total_ratings = score.shape[0]\n",
        "total_ratings"
      ],
      "metadata": {
        "colab": {
          "base_uri": "https://localhost:8080/"
        },
        "id": "NBnjEh1AJIHU",
        "outputId": "e3408623-75f0-4503-ea1e-d6b26c3f3113"
      },
      "execution_count": 14,
      "outputs": [
        {
          "output_type": "execute_result",
          "data": {
            "text/plain": [
              "1167"
            ]
          },
          "metadata": {},
          "execution_count": 14
        }
      ]
    },
    {
      "cell_type": "code",
      "source": [
        "num_detractors = detractors.shape[0]\n",
        "(num_detractors/total_ratings)*100"
      ],
      "metadata": {
        "colab": {
          "base_uri": "https://localhost:8080/"
        },
        "id": "CLw4QP5EKKcN",
        "outputId": "f8d82dd8-f6b2-4619-b830-2538d5fbaa55"
      },
      "execution_count": 17,
      "outputs": [
        {
          "output_type": "execute_result",
          "data": {
            "text/plain": [
              "28.449014567266495"
            ]
          },
          "metadata": {},
          "execution_count": 17
        }
      ]
    },
    {
      "cell_type": "code",
      "source": [
        "num_promoters = promoters.shape[0]\n",
        "(num_promoters/total_ratings)*100"
      ],
      "metadata": {
        "colab": {
          "base_uri": "https://localhost:8080/"
        },
        "id": "E6c4bbzTKRE9",
        "outputId": "31a3da30-7d16-4430-cb72-4b56fddc96e2"
      },
      "execution_count": 18,
      "outputs": [
        {
          "output_type": "execute_result",
          "data": {
            "text/plain": [
              "52.185089974293064"
            ]
          },
          "metadata": {},
          "execution_count": 18
        }
      ]
    },
    {
      "cell_type": "code",
      "source": [
        "nps = (num_promoters - num_detractors)/total_ratings *100"
      ],
      "metadata": {
        "id": "vfX0JQ4pJ2PF"
      },
      "execution_count": 12,
      "outputs": []
    },
    {
      "cell_type": "code",
      "source": [
        "nps"
      ],
      "metadata": {
        "colab": {
          "base_uri": "https://localhost:8080/"
        },
        "id": "ONqiDjXMJ_4r",
        "outputId": "5ba29c80-ad8f-4937-c8df-f7a8667a88aa"
      },
      "execution_count": 13,
      "outputs": [
        {
          "output_type": "execute_result",
          "data": {
            "text/plain": [
              "23.736075407026565"
            ]
          },
          "metadata": {},
          "execution_count": 13
        }
      ]
    },
    {
      "cell_type": "markdown",
      "source": [
        "We got an NPS of 23.75, which seems a good score but there is still room for improvement as we can see around 28% of detractors."
      ],
      "metadata": {
        "id": "afHsSYWJLTKn"
      }
    },
    {
      "cell_type": "code",
      "source": [],
      "metadata": {
        "id": "g54HglGtKATL"
      },
      "execution_count": null,
      "outputs": []
    }
  ]
}