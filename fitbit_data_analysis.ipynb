{
  "nbformat": 4,
  "nbformat_minor": 0,
  "metadata": {
    "colab": {
      "provenance": [],
      "authorship_tag": "ABX9TyP5yKPJuwKxKSA9tTBqbE7t",
      "include_colab_link": true
    },
    "kernelspec": {
      "name": "python3",
      "display_name": "Python 3"
    },
    "language_info": {
      "name": "python"
    }
  },
  "cells": [
    {
      "cell_type": "markdown",
      "metadata": {
        "id": "view-in-github",
        "colab_type": "text"
      },
      "source": [
        "<a href=\"https://colab.research.google.com/github/shahzarhusain/python_libraries/blob/main/fitbit_data_analysis.ipynb\" target=\"_parent\"><img src=\"https://colab.research.google.com/assets/colab-badge.svg\" alt=\"Open In Colab\"/></a>"
      ]
    },
    {
      "cell_type": "code",
      "execution_count": 48,
      "metadata": {
        "colab": {
          "base_uri": "https://localhost:8080/"
        },
        "id": "yW3lfYSDkLhi",
        "outputId": "758beaa1-6096-4dba-d87c-2d020834bafa"
      },
      "outputs": [
        {
          "output_type": "stream",
          "name": "stdout",
          "text": [
            "Downloading...\n",
            "From: https://drive.google.com/uc?id=1vk1Pu0djiYcrdc85yUXZ_Rqq2oZNcohd\n",
            "To: /content/fit.txt\n",
            "\r  0% 0.00/3.43k [00:00<?, ?B/s]\r100% 3.43k/3.43k [00:00<00:00, 15.5MB/s]\n"
          ]
        }
      ],
      "source": [
        "!gdown https://drive.google.com/uc?id=1vk1Pu0djiYcrdc85yUXZ_Rqq2oZNcohd"
      ]
    },
    {
      "cell_type": "markdown",
      "source": [
        "Today, we have data of a fitbit user. Although, the data is not that huge but it can still give us few insights.\n",
        "\n",
        "We have date wise entry of Step count, Mood, calories burned, hours of sleep and weather the user felt active or not."
      ],
      "metadata": {
        "id": "jvSH4SnPbeBt"
      }
    },
    {
      "cell_type": "code",
      "source": [
        "import numpy as np\n",
        "data = np.loadtxt('fit.txt', dtype = 'str')"
      ],
      "metadata": {
        "id": "B0X-l8VdkRCR"
      },
      "execution_count": 49,
      "outputs": []
    },
    {
      "cell_type": "code",
      "source": [
        "data[:5,:]"
      ],
      "metadata": {
        "colab": {
          "base_uri": "https://localhost:8080/"
        },
        "id": "oJ8EkiazmRoW",
        "outputId": "e7ac739a-fba7-4254-f18c-3485f7faa924"
      },
      "execution_count": 50,
      "outputs": [
        {
          "output_type": "execute_result",
          "data": {
            "text/plain": [
              "array([['06-10-2017', '5464', 'Neutral', '181', '5', 'Inactive'],\n",
              "       ['07-10-2017', '6041', 'Sad', '197', '8', 'Inactive'],\n",
              "       ['08-10-2017', '25', 'Sad', '0', '5', 'Inactive'],\n",
              "       ['09-10-2017', '5461', 'Sad', '174', '4', 'Inactive'],\n",
              "       ['10-10-2017', '6915', 'Neutral', '223', '5', 'Active']],\n",
              "      dtype='<U10')"
            ]
          },
          "metadata": {},
          "execution_count": 50
        }
      ]
    },
    {
      "cell_type": "code",
      "source": [
        "data.shape"
      ],
      "metadata": {
        "colab": {
          "base_uri": "https://localhost:8080/"
        },
        "id": "F8s7tmnVmUEC",
        "outputId": "24c27cc0-c851-408e-f653-64a2769555e1"
      },
      "execution_count": 51,
      "outputs": [
        {
          "output_type": "execute_result",
          "data": {
            "text/plain": [
              "(96, 6)"
            ]
          },
          "metadata": {},
          "execution_count": 51
        }
      ]
    },
    {
      "cell_type": "code",
      "source": [
        "len(data)"
      ],
      "metadata": {
        "colab": {
          "base_uri": "https://localhost:8080/"
        },
        "id": "Fw-HGuyfmZNc",
        "outputId": "3e31925c-21c1-47a6-97fa-0d021a27cab6"
      },
      "execution_count": 52,
      "outputs": [
        {
          "output_type": "execute_result",
          "data": {
            "text/plain": [
              "96"
            ]
          },
          "metadata": {},
          "execution_count": 52
        }
      ]
    },
    {
      "cell_type": "code",
      "source": [
        "data.ndim"
      ],
      "metadata": {
        "colab": {
          "base_uri": "https://localhost:8080/"
        },
        "id": "Afymz6kWmauN",
        "outputId": "6a90f3a4-c19a-4858-d097-be8117443630"
      },
      "execution_count": 53,
      "outputs": [
        {
          "output_type": "execute_result",
          "data": {
            "text/plain": [
              "2"
            ]
          },
          "metadata": {},
          "execution_count": 53
        }
      ]
    },
    {
      "cell_type": "code",
      "source": [
        "data_t = data.T"
      ],
      "metadata": {
        "id": "U4BexiBBmjwJ"
      },
      "execution_count": 54,
      "outputs": []
    },
    {
      "cell_type": "code",
      "source": [
        "# getting col wise array data\n",
        "date,step_count,mood,calories_burned,hours_of_sleep,active = data_t"
      ],
      "metadata": {
        "id": "qjPRwRbAmaL3"
      },
      "execution_count": 55,
      "outputs": []
    },
    {
      "cell_type": "code",
      "source": [
        "data_t[:,:5]"
      ],
      "metadata": {
        "colab": {
          "base_uri": "https://localhost:8080/"
        },
        "id": "GteVBM8B7F6b",
        "outputId": "22819cd0-8e03-4110-8737-0c5d4b8f590b"
      },
      "execution_count": 56,
      "outputs": [
        {
          "output_type": "execute_result",
          "data": {
            "text/plain": [
              "array([['06-10-2017', '07-10-2017', '08-10-2017', '09-10-2017',\n",
              "        '10-10-2017'],\n",
              "       ['5464', '6041', '25', '5461', '6915'],\n",
              "       ['Neutral', 'Sad', 'Sad', 'Sad', 'Neutral'],\n",
              "       ['181', '197', '0', '174', '223'],\n",
              "       ['5', '8', '5', '4', '5'],\n",
              "       ['Inactive', 'Inactive', 'Inactive', 'Inactive', 'Active']],\n",
              "      dtype='<U10')"
            ]
          },
          "metadata": {},
          "execution_count": 56
        }
      ]
    },
    {
      "cell_type": "code",
      "source": [
        "#initially we imported the data as a string but that's not a correct way. Therefore, we will change the data type as int for step_count, calories and hours_of_sleep\n",
        "step_count = step_count.astype('int')\n",
        "calories_burned = calories_burned.astype('int')\n",
        "hours_of_sleep = hours_of_sleep.astype('int')"
      ],
      "metadata": {
        "id": "vNOIipri6ufI"
      },
      "execution_count": 57,
      "outputs": []
    },
    {
      "cell_type": "code",
      "source": [
        "# Let's try to get the average of step_count where the mood is happy\n",
        "mood == 'Happy' # --> this will work as our mask for the main data"
      ],
      "metadata": {
        "colab": {
          "base_uri": "https://localhost:8080/"
        },
        "id": "obgq7JQ27ff3",
        "outputId": "51473360-3c21-40c6-d748-aa971060e4ce"
      },
      "execution_count": 58,
      "outputs": [
        {
          "output_type": "execute_result",
          "data": {
            "text/plain": [
              "array([False, False, False, False, False, False, False, False, False,\n",
              "       False, False, False,  True, False, False, False, False, False,\n",
              "       False, False, False, False, False,  True, False,  True,  True,\n",
              "        True,  True,  True,  True,  True, False,  True,  True,  True,\n",
              "        True,  True,  True,  True,  True,  True,  True, False,  True,\n",
              "        True,  True,  True,  True,  True,  True,  True,  True, False,\n",
              "       False,  True,  True,  True,  True,  True,  True,  True, False,\n",
              "       False, False, False, False, False, False,  True, False, False,\n",
              "       False, False, False, False, False, False, False, False, False,\n",
              "        True, False,  True, False, False, False, False, False, False,\n",
              "       False, False,  True, False, False,  True])"
            ]
          },
          "metadata": {},
          "execution_count": 58
        }
      ]
    },
    {
      "cell_type": "code",
      "source": [
        "step_count[mood == 'Happy'] # --> this is giving us all the data points where the mood is happy as the len for both the rows is same"
      ],
      "metadata": {
        "colab": {
          "base_uri": "https://localhost:8080/"
        },
        "id": "bGE8mj7a8kVC",
        "outputId": "00fa64a4-e678-47f8-dfee-0da3a3313146"
      },
      "execution_count": 59,
      "outputs": [
        {
          "output_type": "execute_result",
          "data": {
            "text/plain": [
              "array([4732,  330, 4550, 4435, 4779, 1831, 2255,  539, 5464, 4068, 4683,\n",
              "       4033, 6314,  614, 3149, 4005, 4880, 4136,  705,  269, 4275, 5999,\n",
              "       4421, 6930, 5195,  546,  493,  995, 3608,  774, 1421, 4064, 2725,\n",
              "       5934, 1867, 7422, 5537, 5376,  153, 2203])"
            ]
          },
          "metadata": {},
          "execution_count": 59
        }
      ]
    },
    {
      "cell_type": "code",
      "source": [
        "np.mean(step_count[mood == 'Happy'])"
      ],
      "metadata": {
        "colab": {
          "base_uri": "https://localhost:8080/"
        },
        "id": "Bb4fDXLZ8Rsf",
        "outputId": "ecf7c0ed-6cd0-4102-f4f9-5ce4632008ee"
      },
      "execution_count": 60,
      "outputs": [
        {
          "output_type": "execute_result",
          "data": {
            "text/plain": [
              "3392.725"
            ]
          },
          "metadata": {},
          "execution_count": 60
        }
      ]
    },
    {
      "cell_type": "code",
      "source": [
        "# average where the mood is happy or Neutral\n",
        "step_count[(mood=='Happy') | (mood =='Neutral')].mean()"
      ],
      "metadata": {
        "colab": {
          "base_uri": "https://localhost:8080/"
        },
        "id": "17agqklv8e7t",
        "outputId": "657051c5-aaca-4c1f-d6ce-757a26c4069e"
      },
      "execution_count": 61,
      "outputs": [
        {
          "output_type": "execute_result",
          "data": {
            "text/plain": [
              "3296.4328358208954"
            ]
          },
          "metadata": {},
          "execution_count": 61
        }
      ]
    },
    {
      "cell_type": "code",
      "source": [
        "# average step count where mood is sad\n",
        "step_count[mood=='Sad'].mean()\n",
        "\n",
        "# this shows us a correalation b/w mood and step count. A person with Sad mood has low number of step count as compared to the happy person"
      ],
      "metadata": {
        "colab": {
          "base_uri": "https://localhost:8080/"
        },
        "id": "EUqLGGFVAKf_",
        "outputId": "1108205b-3114-4b70-eccd-f7e210d06cf0"
      },
      "execution_count": 62,
      "outputs": [
        {
          "output_type": "execute_result",
          "data": {
            "text/plain": [
              "2103.0689655172414"
            ]
          },
          "metadata": {},
          "execution_count": 62
        }
      ]
    },
    {
      "cell_type": "code",
      "source": [
        "step_count.max()"
      ],
      "metadata": {
        "colab": {
          "base_uri": "https://localhost:8080/"
        },
        "id": "LyObEIsvPMGR",
        "outputId": "bf27cd76-9206-4ac2-b92f-88d837c7fc76"
      },
      "execution_count": 63,
      "outputs": [
        {
          "output_type": "execute_result",
          "data": {
            "text/plain": [
              "7422"
            ]
          },
          "metadata": {},
          "execution_count": 63
        }
      ]
    },
    {
      "cell_type": "code",
      "source": [
        "step_count.min()"
      ],
      "metadata": {
        "colab": {
          "base_uri": "https://localhost:8080/"
        },
        "id": "ho2_rFfkPOgu",
        "outputId": "2e153900-a0b6-4691-8d03-25754e52154a"
      },
      "execution_count": 64,
      "outputs": [
        {
          "output_type": "execute_result",
          "data": {
            "text/plain": [
              "25"
            ]
          },
          "metadata": {},
          "execution_count": 64
        }
      ]
    },
    {
      "cell_type": "code",
      "source": [
        "# We can verify the above by one more method. Let's see how was the mood of person who has walked more than 5000 steps\n",
        "mood[step_count>=5000]"
      ],
      "metadata": {
        "colab": {
          "base_uri": "https://localhost:8080/"
        },
        "id": "7YppZ9OiA0Ao",
        "outputId": "6e6d1e2b-e405-472b-a40f-1c97961066f8"
      },
      "execution_count": 65,
      "outputs": [
        {
          "output_type": "execute_result",
          "data": {
            "text/plain": [
              "array(['Neutral', 'Sad', 'Sad', 'Neutral', 'Happy', 'Neutral', 'Happy',\n",
              "       'Happy', 'Happy', 'Happy', 'Sad', 'Happy', 'Neutral', 'Happy',\n",
              "       'Neutral', 'Happy', 'Happy'], dtype='<U10')"
            ]
          },
          "metadata": {},
          "execution_count": 65
        }
      ]
    },
    {
      "cell_type": "code",
      "source": [
        "np.unique(mood[step_count>=5000], return_counts=True)\n",
        "# we can clearly see that the freq of people walked more than 5k steps is greater for people with happy mood"
      ],
      "metadata": {
        "colab": {
          "base_uri": "https://localhost:8080/"
        },
        "id": "Uc-6-d_xPXU0",
        "outputId": "44045cc7-9c65-4831-a82a-a07dcfa39e3a"
      },
      "execution_count": 66,
      "outputs": [
        {
          "output_type": "execute_result",
          "data": {
            "text/plain": [
              "(array(['Happy', 'Neutral', 'Sad'], dtype='<U10'), array([9, 5, 3]))"
            ]
          },
          "metadata": {},
          "execution_count": 66
        }
      ]
    },
    {
      "cell_type": "code",
      "source": [
        "mood[step_count<2000]"
      ],
      "metadata": {
        "colab": {
          "base_uri": "https://localhost:8080/"
        },
        "id": "WYusz8hlPcqc",
        "outputId": "37e34648-8f11-4507-95ad-c2f383a1da5c"
      },
      "execution_count": 67,
      "outputs": [
        {
          "output_type": "execute_result",
          "data": {
            "text/plain": [
              "array(['Sad', 'Sad', 'Sad', 'Sad', 'Sad', 'Sad', 'Neutral', 'Neutral',\n",
              "       'Happy', 'Happy', 'Happy', 'Happy', 'Happy', 'Neutral', 'Happy',\n",
              "       'Happy', 'Happy', 'Happy', 'Neutral', 'Happy', 'Happy', 'Happy',\n",
              "       'Sad', 'Sad', 'Neutral', 'Neutral', 'Sad', 'Sad', 'Sad', 'Sad',\n",
              "       'Sad', 'Sad', 'Sad', 'Sad', 'Neutral', 'Sad', 'Sad', 'Happy',\n",
              "       'Neutral'], dtype='<U10')"
            ]
          },
          "metadata": {},
          "execution_count": 67
        }
      ]
    },
    {
      "cell_type": "code",
      "source": [
        "np.unique(mood[step_count<2000], return_counts=True)"
      ],
      "metadata": {
        "colab": {
          "base_uri": "https://localhost:8080/"
        },
        "id": "Op_Li7lUP2Pu",
        "outputId": "efe87648-ddcb-4f20-b860-57f762f91438"
      },
      "execution_count": 68,
      "outputs": [
        {
          "output_type": "execute_result",
          "data": {
            "text/plain": [
              "(array(['Happy', 'Neutral', 'Sad'], dtype='<U10'), array([13,  8, 18]))"
            ]
          },
          "metadata": {},
          "execution_count": 68
        }
      ]
    },
    {
      "cell_type": "code",
      "source": [
        "mood[np.argmax(step_count)], step_count[np.argmax(step_count)]"
      ],
      "metadata": {
        "colab": {
          "base_uri": "https://localhost:8080/"
        },
        "id": "CyNObCRiQu7g",
        "outputId": "0f287ad6-ca01-4674-80d3-c555e3b99ecf"
      },
      "execution_count": 88,
      "outputs": [
        {
          "output_type": "execute_result",
          "data": {
            "text/plain": [
              "('Happy', 7422)"
            ]
          },
          "metadata": {},
          "execution_count": 88
        }
      ]
    },
    {
      "cell_type": "code",
      "source": [
        "mood[np.argmin(step_count)], step_count[np.argmin(step_count)]"
      ],
      "metadata": {
        "colab": {
          "base_uri": "https://localhost:8080/"
        },
        "id": "6UZPqiCWX7Y6",
        "outputId": "7d6cb913-a5f2-4f04-abf7-7b4579ce14b6"
      },
      "execution_count": 89,
      "outputs": [
        {
          "output_type": "execute_result",
          "data": {
            "text/plain": [
              "('Sad', 25)"
            ]
          },
          "metadata": {},
          "execution_count": 89
        }
      ]
    },
    {
      "cell_type": "markdown",
      "source": [
        "# Sleep vs Mood"
      ],
      "metadata": {
        "id": "aEB4MLspOCOz"
      }
    },
    {
      "cell_type": "code",
      "source": [
        "hours_of_sleep.min()"
      ],
      "metadata": {
        "colab": {
          "base_uri": "https://localhost:8080/"
        },
        "id": "NyA2S-hAV7Aa",
        "outputId": "3de0469b-45d1-4fe1-9f30-7a91da5386fc"
      },
      "execution_count": 73,
      "outputs": [
        {
          "output_type": "execute_result",
          "data": {
            "text/plain": [
              "2"
            ]
          },
          "metadata": {},
          "execution_count": 73
        }
      ]
    },
    {
      "cell_type": "code",
      "source": [
        "hours_of_sleep.max()"
      ],
      "metadata": {
        "colab": {
          "base_uri": "https://localhost:8080/"
        },
        "id": "SMUYB_tOWBHm",
        "outputId": "f0e283fa-0992-4587-fe65-dc3dffb8522d"
      },
      "execution_count": 74,
      "outputs": [
        {
          "output_type": "execute_result",
          "data": {
            "text/plain": [
              "9"
            ]
          },
          "metadata": {},
          "execution_count": 74
        }
      ]
    },
    {
      "cell_type": "code",
      "source": [
        "# let see the average hours of sleep each mood gets\n",
        "moods = [i for i in np.unique(mood)]\n",
        "for mood_type in moods:\n",
        "  avg_sleep = np.round(hours_of_sleep[mood == mood_type].mean(),2)\n",
        "  print(f'A person who sleeps an average of {avg_sleep} gets a {mood_type} mood.')"
      ],
      "metadata": {
        "id": "0IUD1_J_X-e3",
        "colab": {
          "base_uri": "https://localhost:8080/"
        },
        "outputId": "d6e49016-17bc-4da5-c958-1c93cced7fbb"
      },
      "execution_count": 84,
      "outputs": [
        {
          "output_type": "stream",
          "name": "stdout",
          "text": [
            "A person who sleeps an average of 5.72 gets a Happy mood.\n",
            "A person who sleeps an average of 4.67 gets a Neutral mood.\n",
            "A person who sleeps an average of 5.03 gets a Sad mood.\n"
          ]
        }
      ]
    },
    {
      "cell_type": "code",
      "source": [
        "len(hours_of_sleep[hours_of_sleep>=8])"
      ],
      "metadata": {
        "colab": {
          "base_uri": "https://localhost:8080/"
        },
        "id": "oS40aT1CaCQf",
        "outputId": "a1d4efde-bd94-4d96-aad2-4a2d7ebe6a6c"
      },
      "execution_count": 85,
      "outputs": [
        {
          "output_type": "execute_result",
          "data": {
            "text/plain": [
              "11"
            ]
          },
          "metadata": {},
          "execution_count": 85
        }
      ]
    },
    {
      "cell_type": "code",
      "source": [
        "mood[hours_of_sleep>=8]"
      ],
      "metadata": {
        "colab": {
          "base_uri": "https://localhost:8080/"
        },
        "id": "Ruq-ZnmeacYO",
        "outputId": "82416ef0-e3fa-423b-f9c3-6d99a5fdde9a"
      },
      "execution_count": 86,
      "outputs": [
        {
          "output_type": "execute_result",
          "data": {
            "text/plain": [
              "array(['Sad', 'Sad', 'Sad', 'Neutral', 'Happy', 'Happy', 'Happy', 'Happy',\n",
              "       'Happy', 'Happy', 'Happy'], dtype='<U10')"
            ]
          },
          "metadata": {},
          "execution_count": 86
        }
      ]
    },
    {
      "cell_type": "markdown",
      "source": [
        "We can see that usually Sleeping equal to or more than 8 hours can make your mood happy. However, we do not see a strong relation of the mood with the sleep."
      ],
      "metadata": {
        "id": "JcA2lRVUaAlQ"
      }
    },
    {
      "cell_type": "code",
      "source": [],
      "metadata": {
        "id": "MCDzM6m8ThF4"
      },
      "execution_count": 83,
      "outputs": []
    }
  ]
}