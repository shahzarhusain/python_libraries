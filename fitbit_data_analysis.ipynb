{
  "nbformat": 4,
  "nbformat_minor": 0,
  "metadata": {
    "colab": {
      "provenance": [],
      "authorship_tag": "ABX9TyNaFYXOCUghFr/VZZvuAeSf",
      "include_colab_link": true
    },
    "kernelspec": {
      "name": "python3",
      "display_name": "Python 3"
    },
    "language_info": {
      "name": "python"
    }
  },
  "cells": [
    {
      "cell_type": "markdown",
      "metadata": {
        "id": "view-in-github",
        "colab_type": "text"
      },
      "source": [
        "<a href=\"https://colab.research.google.com/github/shahzarhusain/python_libraries/blob/main/fitbit_data_analysis.ipynb\" target=\"_parent\"><img src=\"https://colab.research.google.com/assets/colab-badge.svg\" alt=\"Open In Colab\"/></a>"
      ]
    },
    {
      "cell_type": "code",
      "execution_count": 1,
      "metadata": {
        "colab": {
          "base_uri": "https://localhost:8080/"
        },
        "id": "yW3lfYSDkLhi",
        "outputId": "d131e44a-9313-484a-80a3-06a52b329a10"
      },
      "outputs": [
        {
          "output_type": "stream",
          "name": "stdout",
          "text": [
            "Downloading...\n",
            "From: https://drive.google.com/uc?id=1vk1Pu0djiYcrdc85yUXZ_Rqq2oZNcohd\n",
            "To: /content/fit.txt\n",
            "\r  0% 0.00/3.43k [00:00<?, ?B/s]\r100% 3.43k/3.43k [00:00<00:00, 15.7MB/s]\n"
          ]
        }
      ],
      "source": [
        "!gdown https://drive.google.com/uc?id=1vk1Pu0djiYcrdc85yUXZ_Rqq2oZNcohd"
      ]
    },
    {
      "cell_type": "code",
      "source": [
        "import numpy as np\n",
        "data = np.loadtxt('fit.txt', dtype = 'str')"
      ],
      "metadata": {
        "id": "B0X-l8VdkRCR"
      },
      "execution_count": 2,
      "outputs": []
    },
    {
      "cell_type": "code",
      "source": [
        "data[:5,:]"
      ],
      "metadata": {
        "colab": {
          "base_uri": "https://localhost:8080/"
        },
        "id": "oJ8EkiazmRoW",
        "outputId": "8c4f3e72-859a-41e7-8ad1-aa201adaf629"
      },
      "execution_count": 6,
      "outputs": [
        {
          "output_type": "execute_result",
          "data": {
            "text/plain": [
              "array([['06-10-2017', '5464', 'Neutral', '181', '5', 'Inactive'],\n",
              "       ['07-10-2017', '6041', 'Sad', '197', '8', 'Inactive'],\n",
              "       ['08-10-2017', '25', 'Sad', '0', '5', 'Inactive'],\n",
              "       ['09-10-2017', '5461', 'Sad', '174', '4', 'Inactive'],\n",
              "       ['10-10-2017', '6915', 'Neutral', '223', '5', 'Active']],\n",
              "      dtype='<U10')"
            ]
          },
          "metadata": {},
          "execution_count": 6
        }
      ]
    },
    {
      "cell_type": "code",
      "source": [
        "data.shape"
      ],
      "metadata": {
        "colab": {
          "base_uri": "https://localhost:8080/"
        },
        "id": "F8s7tmnVmUEC",
        "outputId": "235e0190-4e05-4468-9c41-7973f4b67f7f"
      },
      "execution_count": 7,
      "outputs": [
        {
          "output_type": "execute_result",
          "data": {
            "text/plain": [
              "(96, 6)"
            ]
          },
          "metadata": {},
          "execution_count": 7
        }
      ]
    },
    {
      "cell_type": "code",
      "source": [
        "len(data)"
      ],
      "metadata": {
        "colab": {
          "base_uri": "https://localhost:8080/"
        },
        "id": "Fw-HGuyfmZNc",
        "outputId": "063400ca-1a95-4be4-fc10-ba286fce2c8a"
      },
      "execution_count": 8,
      "outputs": [
        {
          "output_type": "execute_result",
          "data": {
            "text/plain": [
              "96"
            ]
          },
          "metadata": {},
          "execution_count": 8
        }
      ]
    },
    {
      "cell_type": "code",
      "source": [
        "data.ndim"
      ],
      "metadata": {
        "colab": {
          "base_uri": "https://localhost:8080/"
        },
        "id": "Afymz6kWmauN",
        "outputId": "0a873803-3137-4d25-86b8-b9fa4aa0aa95"
      },
      "execution_count": 9,
      "outputs": [
        {
          "output_type": "execute_result",
          "data": {
            "text/plain": [
              "2"
            ]
          },
          "metadata": {},
          "execution_count": 9
        }
      ]
    },
    {
      "cell_type": "code",
      "source": [
        "data_t = data.T"
      ],
      "metadata": {
        "id": "U4BexiBBmjwJ"
      },
      "execution_count": 15,
      "outputs": []
    },
    {
      "cell_type": "code",
      "source": [
        "# getting col wise array data\n",
        "date,step_count,mood,calories_burned,hours_of_sleep,active = data_t"
      ],
      "metadata": {
        "id": "qjPRwRbAmaL3"
      },
      "execution_count": 17,
      "outputs": []
    },
    {
      "cell_type": "code",
      "source": [
        "data_t[:,:5]"
      ],
      "metadata": {
        "colab": {
          "base_uri": "https://localhost:8080/"
        },
        "id": "GteVBM8B7F6b",
        "outputId": "da8e2058-0e9e-4d5f-bb85-548d9be32576"
      },
      "execution_count": 18,
      "outputs": [
        {
          "output_type": "execute_result",
          "data": {
            "text/plain": [
              "array([['06-10-2017', '07-10-2017', '08-10-2017', '09-10-2017',\n",
              "        '10-10-2017'],\n",
              "       ['5464', '6041', '25', '5461', '6915'],\n",
              "       ['Neutral', 'Sad', 'Sad', 'Sad', 'Neutral'],\n",
              "       ['181', '197', '0', '174', '223'],\n",
              "       ['5', '8', '5', '4', '5'],\n",
              "       ['Inactive', 'Inactive', 'Inactive', 'Inactive', 'Active']],\n",
              "      dtype='<U10')"
            ]
          },
          "metadata": {},
          "execution_count": 18
        }
      ]
    },
    {
      "cell_type": "code",
      "source": [
        "#initially we imported the data as a string but that's not a correct way. Therefore, we will change the data type as int for step_count, calories and hours_of_sleep\n",
        "step_count = step_count.astype('int')\n",
        "calories_burned = calories_burned.astype('int')\n",
        "hours_of_sleep = hours_of_sleep.astype('int')"
      ],
      "metadata": {
        "id": "vNOIipri6ufI"
      },
      "execution_count": 19,
      "outputs": []
    },
    {
      "cell_type": "code",
      "source": [
        "# Let's try to get the average of step_count where the mood is happy\n",
        "mood == 'Happy' # --> this will work as our mask for the main data"
      ],
      "metadata": {
        "colab": {
          "base_uri": "https://localhost:8080/"
        },
        "id": "obgq7JQ27ff3",
        "outputId": "31edff9b-2a3d-403e-e9e1-d8517f69b2e4"
      },
      "execution_count": 21,
      "outputs": [
        {
          "output_type": "execute_result",
          "data": {
            "text/plain": [
              "array([False, False, False, False, False, False, False, False, False,\n",
              "       False, False, False,  True, False, False, False, False, False,\n",
              "       False, False, False, False, False,  True, False,  True,  True,\n",
              "        True,  True,  True,  True,  True, False,  True,  True,  True,\n",
              "        True,  True,  True,  True,  True,  True,  True, False,  True,\n",
              "        True,  True,  True,  True,  True,  True,  True,  True, False,\n",
              "       False,  True,  True,  True,  True,  True,  True,  True, False,\n",
              "       False, False, False, False, False, False,  True, False, False,\n",
              "       False, False, False, False, False, False, False, False, False,\n",
              "        True, False,  True, False, False, False, False, False, False,\n",
              "       False, False,  True, False, False,  True])"
            ]
          },
          "metadata": {},
          "execution_count": 21
        }
      ]
    },
    {
      "cell_type": "code",
      "source": [
        "step_count[mood == 'Happy'] # --> this is giving us all the data points where the mood is happy as the len for both the rows is same"
      ],
      "metadata": {
        "colab": {
          "base_uri": "https://localhost:8080/"
        },
        "id": "bGE8mj7a8kVC",
        "outputId": "f25f53fe-1735-4551-f883-67715bd9f8ea"
      },
      "execution_count": 24,
      "outputs": [
        {
          "output_type": "execute_result",
          "data": {
            "text/plain": [
              "array([4732,  330, 4550, 4435, 4779, 1831, 2255,  539, 5464, 4068, 4683,\n",
              "       4033, 6314,  614, 3149, 4005, 4880, 4136,  705,  269, 4275, 5999,\n",
              "       4421, 6930, 5195,  546,  493,  995, 3608,  774, 1421, 4064, 2725,\n",
              "       5934, 1867, 7422, 5537, 5376,  153, 2203])"
            ]
          },
          "metadata": {},
          "execution_count": 24
        }
      ]
    },
    {
      "cell_type": "code",
      "source": [
        "np.mean(step_count[mood == 'Happy'])"
      ],
      "metadata": {
        "colab": {
          "base_uri": "https://localhost:8080/"
        },
        "id": "Bb4fDXLZ8Rsf",
        "outputId": "e117a90e-64aa-49a1-90e9-9c4a83cf4ae4"
      },
      "execution_count": 23,
      "outputs": [
        {
          "output_type": "execute_result",
          "data": {
            "text/plain": [
              "3392.725"
            ]
          },
          "metadata": {},
          "execution_count": 23
        }
      ]
    },
    {
      "cell_type": "code",
      "source": [
        "# average where the mood is happy or Neutral\n",
        "step_count[(mood=='Happy') | (mood =='Neutral')].mean()"
      ],
      "metadata": {
        "colab": {
          "base_uri": "https://localhost:8080/"
        },
        "id": "17agqklv8e7t",
        "outputId": "83a01c27-d199-4d97-a47f-b5cdbbb38f8b"
      },
      "execution_count": 31,
      "outputs": [
        {
          "output_type": "execute_result",
          "data": {
            "text/plain": [
              "3296.4328358208954"
            ]
          },
          "metadata": {},
          "execution_count": 31
        }
      ]
    },
    {
      "cell_type": "code",
      "source": [
        "# average step count where mood is sad\n",
        "step_count[mood=='Sad'].mean()\n",
        "\n",
        "# this shows us a correalation b/w mood and step count. A person with Sad mood has low number of step count as compared to the happy person"
      ],
      "metadata": {
        "colab": {
          "base_uri": "https://localhost:8080/"
        },
        "id": "EUqLGGFVAKf_",
        "outputId": "86bebe1b-3db6-40f1-eb65-cf5549bd6864"
      },
      "execution_count": 34,
      "outputs": [
        {
          "output_type": "execute_result",
          "data": {
            "text/plain": [
              "2103.0689655172414"
            ]
          },
          "metadata": {},
          "execution_count": 34
        }
      ]
    },
    {
      "cell_type": "code",
      "source": [
        "step_count.max()"
      ],
      "metadata": {
        "colab": {
          "base_uri": "https://localhost:8080/"
        },
        "id": "LyObEIsvPMGR",
        "outputId": "d24dc082-cfdb-4d3c-a8c4-5171cdae3b7e"
      },
      "execution_count": 35,
      "outputs": [
        {
          "output_type": "execute_result",
          "data": {
            "text/plain": [
              "7422"
            ]
          },
          "metadata": {},
          "execution_count": 35
        }
      ]
    },
    {
      "cell_type": "code",
      "source": [
        "step_count.min()"
      ],
      "metadata": {
        "colab": {
          "base_uri": "https://localhost:8080/"
        },
        "id": "ho2_rFfkPOgu",
        "outputId": "f7a62e35-1b95-4c5b-95a0-440737b31293"
      },
      "execution_count": 36,
      "outputs": [
        {
          "output_type": "execute_result",
          "data": {
            "text/plain": [
              "25"
            ]
          },
          "metadata": {},
          "execution_count": 36
        }
      ]
    },
    {
      "cell_type": "code",
      "source": [
        "# We can verify the above by one more method. Let's see how was the mood of person who has walked more than 5000 steps\n",
        "mood[step_count>=5000]"
      ],
      "metadata": {
        "colab": {
          "base_uri": "https://localhost:8080/"
        },
        "id": "7YppZ9OiA0Ao",
        "outputId": "f844fb59-c225-4638-930c-c2b63e955a89"
      },
      "execution_count": 37,
      "outputs": [
        {
          "output_type": "execute_result",
          "data": {
            "text/plain": [
              "array(['Neutral', 'Sad', 'Sad', 'Neutral', 'Happy', 'Neutral', 'Happy',\n",
              "       'Happy', 'Happy', 'Happy', 'Sad', 'Happy', 'Neutral', 'Happy',\n",
              "       'Neutral', 'Happy', 'Happy'], dtype='<U10')"
            ]
          },
          "metadata": {},
          "execution_count": 37
        }
      ]
    },
    {
      "cell_type": "code",
      "source": [
        "np.unique(mood[step_count>=5000], return_counts=True)\n",
        "# we can clearly see that the freq of people walked more than 5k steps is greater for people with happy mood"
      ],
      "metadata": {
        "colab": {
          "base_uri": "https://localhost:8080/"
        },
        "id": "Uc-6-d_xPXU0",
        "outputId": "8a62b173-d8d1-4e39-c470-1dee860407d8"
      },
      "execution_count": 38,
      "outputs": [
        {
          "output_type": "execute_result",
          "data": {
            "text/plain": [
              "(array(['Happy', 'Neutral', 'Sad'], dtype='<U10'), array([9, 5, 3]))"
            ]
          },
          "metadata": {},
          "execution_count": 38
        }
      ]
    },
    {
      "cell_type": "code",
      "source": [
        "mood[step_count<2000]"
      ],
      "metadata": {
        "colab": {
          "base_uri": "https://localhost:8080/"
        },
        "id": "WYusz8hlPcqc",
        "outputId": "9a56c498-288c-4561-fa75-ff7eea5c9ceb"
      },
      "execution_count": 39,
      "outputs": [
        {
          "output_type": "execute_result",
          "data": {
            "text/plain": [
              "array(['Sad', 'Sad', 'Sad', 'Sad', 'Sad', 'Sad', 'Neutral', 'Neutral',\n",
              "       'Happy', 'Happy', 'Happy', 'Happy', 'Happy', 'Neutral', 'Happy',\n",
              "       'Happy', 'Happy', 'Happy', 'Neutral', 'Happy', 'Happy', 'Happy',\n",
              "       'Sad', 'Sad', 'Neutral', 'Neutral', 'Sad', 'Sad', 'Sad', 'Sad',\n",
              "       'Sad', 'Sad', 'Sad', 'Sad', 'Neutral', 'Sad', 'Sad', 'Happy',\n",
              "       'Neutral'], dtype='<U10')"
            ]
          },
          "metadata": {},
          "execution_count": 39
        }
      ]
    },
    {
      "cell_type": "code",
      "source": [
        "np.unique(mood[step_count<2000], return_counts=True)"
      ],
      "metadata": {
        "colab": {
          "base_uri": "https://localhost:8080/"
        },
        "id": "Op_Li7lUP2Pu",
        "outputId": "e25a80cf-65db-4207-c4a4-7490d1cb2055"
      },
      "execution_count": 40,
      "outputs": [
        {
          "output_type": "execute_result",
          "data": {
            "text/plain": [
              "(array(['Happy', 'Neutral', 'Sad'], dtype='<U10'), array([13,  8, 18]))"
            ]
          },
          "metadata": {},
          "execution_count": 40
        }
      ]
    },
    {
      "cell_type": "code",
      "source": [],
      "metadata": {
        "id": "N3LJQ-xJP7t-"
      },
      "execution_count": null,
      "outputs": []
    }
  ]
}